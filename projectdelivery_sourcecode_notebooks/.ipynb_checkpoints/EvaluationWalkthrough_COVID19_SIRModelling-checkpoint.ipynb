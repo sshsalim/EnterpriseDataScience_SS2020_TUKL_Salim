{
 "cells": [
  {
   "cell_type": "markdown",
   "id": "adc1cfac",
   "metadata": {},
   "source": [
    "# Full Walkthorough Dashboard -SIR Modelling\n",
    "\n",
    "\n",
    "The following parts are included for any countries which can be selected in the dashboard. \n",
    "* SIR Model to model COVID19 infection - SIR fit of the infection rate for more than 100+ countries (Any country can be selected) "
   ]
  },
  {
   "cell_type": "code",
   "execution_count": 6,
   "id": "6d4cea3a",
   "metadata": {},
   "outputs": [
    {
     "data": {
      "text/plain": [
       "'Your base path is at: ads_covid-19'"
      ]
     },
     "execution_count": 6,
     "metadata": {},
     "output_type": "execute_result"
    }
   ],
   "source": [
    "## check some parameters\n",
    "## depending where you launch your notebook, the relative path might not work\n",
    "## you should start the notebook server from your base path\n",
    "## when opening the notebook, typically your path will be ../ads_covid-19/notebooks\n",
    "import os\n",
    "if os.path.split(os.getcwd())[-1]=='notebooks':\n",
    "    os.chdir(\"../\")\n",
    "\n",
    "'Your base path is at: '+os.path.split(os.getcwd())[-1]"
   ]
  },
  {
   "cell_type": "markdown",
   "id": "3a4c1cec",
   "metadata": {},
   "source": [
    "## Imports "
   ]
  },
  {
   "cell_type": "code",
   "execution_count": 7,
   "id": "c9b88798",
   "metadata": {},
   "outputs": [],
   "source": [
    "import subprocess\n",
    "import os\n",
    "\n",
    "import pandas as pd\n",
    "import numpy as np\n",
    "\n",
    "from datetime import datetime\n",
    "\n",
    "import requests\n",
    "import json"
   ]
  },
  {
   "cell_type": "markdown",
   "id": "7ca5d2f9",
   "metadata": {},
   "source": [
    "## Automatic dataset retreival \n",
    "\n",
    "### Source: \n",
    "* John Hopkins dataset from https://github.com/CSSEGISandData/COVID-19.git \n"
   ]
  },
  {
   "cell_type": "code",
   "execution_count": 8,
   "id": "1c198e3c",
   "metadata": {},
   "outputs": [
    {
     "name": "stdout",
     "output_type": "stream",
     "text": [
      "Repository exists. No fetch action required.\n"
     ]
    }
   ],
   "source": [
    "def get_johns_hopkins():\n",
    "    ''' Get data by a git pull request, the source code has to be pulled first\n",
    "        Result is stored in the predifined csv structure. If there is no Repository \n",
    "        not present then clone the data from GitHub.\n",
    "    '''\n",
    "    \n",
    "    if os.path.exists('data/raw/COVID-19/'):\n",
    "        print('Repository exists. No fetch action required.')\n",
    "        git_pull = subprocess.Popen( \"git pull\" ,\n",
    "                             cwd = os.path.dirname('data/raw/COVID-19/' ),\n",
    "                             shell = True,\n",
    "                             stdout = subprocess.PIPE,\n",
    "                             stderr = subprocess.PIPE )\n",
    "        (out, error) = git_pull.communicate()\n",
    "    else:\n",
    "        print('Repository does not exist. Fetch action required.')\n",
    "        git_clone = subprocess.Popen( \"git clone https://github.com/CSSEGISandData/COVID-19.git\" ,\n",
    "                             cwd = os.path.dirname('data/raw/' ),\n",
    "                             shell = True,\n",
    "                             stdout = subprocess.PIPE,\n",
    "                             stderr = subprocess.PIPE )\n",
    "        (out, error) = git_clone.communicate()\n",
    "\n",
    "if __name__ == '__main__':\n",
    "    get_johns_hopkins()"
   ]
  },
  {
   "cell_type": "markdown",
   "id": "548e879a",
   "metadata": {},
   "source": [
    "## Initial data preparation"
   ]
  },
  {
   "cell_type": "code",
   "execution_count": 9,
   "id": "3dece78b",
   "metadata": {},
   "outputs": [
    {
     "name": "stderr",
     "output_type": "stream",
     "text": [
      "c:\\python37\\lib\\site-packages\\ipykernel_launcher.py:19: PerformanceWarning: DataFrame is highly fragmented.  This is usually the result of calling `frame.insert` many times, which has poor performance.  Consider joining all columns at once using pd.concat(axis=1) instead.  To get a de-fragmented frame, use `newframe = frame.copy()`\n"
     ]
    }
   ],
   "source": [
    "import pandas as pd\n",
    "import numpy as np\n",
    "\n",
    "from datetime import datetime\n",
    "\n",
    "\n",
    "def store_relational_data():\n",
    "    data_path='data/raw/COVID-19/csse_covid_19_data/csse_covid_19_time_series/time_series_covid19_confirmed_global.csv'\n",
    "    pd_raw=pd.read_csv(data_path)\n",
    "    \n",
    "    #SIR model data preparation\n",
    "    time_idx = pd_raw.columns[4:]\n",
    "    sir_plot = pd.DataFrame({\n",
    "    'date':time_idx})\n",
    "    #sir_plot.head()\n",
    "    sir_arr= pd_raw['Country/Region'].unique()\n",
    "    sir_list = sir_arr.tolist()\n",
    "    for each in sir_list:\n",
    "        sir_plot[each] =np.array(pd_raw[pd_raw['Country/Region']==each].iloc[:,4::].sum(axis=0))\n",
    "    #sir_plot.head()\n",
    "    \n",
    "    #Creating SIR plot for 100+ countries\n",
    "    sir_plot= sir_plot.drop(columns = ['Taiwan*', 'South Sudan', 'Guyana','Haiti', 'Holy See', 'Honduras', 'Hungary', 'Iceland',\n",
    "                                   'Iraq', 'Ireland', 'Israel', 'Italy',\n",
    "       'Jamaica', 'Japan', 'Jordan', 'Kazakhstan', 'Kenya',\n",
    "       'Korea, South', 'Kosovo','Belgium', 'Belize', 'Benin', 'Bhutan',\n",
    "       'Bolivia', 'Bosnia and Herzegovina', 'Botswana',\n",
    "       'Brunei', 'Bulgaria', 'Burkina Faso', 'Burma', 'Burundi',\n",
    "       'Cabo Verde', 'Cambodia', 'Cameroon', 'Canada',\n",
    "       'Central African Republic', 'Chad', 'Chile', 'China', 'Colombia',\n",
    "       'Comoros', 'Congo (Brazzaville)', 'Congo (Kinshasa)', 'Costa Rica',\n",
    "       \"Cote d'Ivoire\", 'Croatia', 'Cuba', 'Cyprus', 'Czechia', 'Denmark',\n",
    "       'Diamond Princess', 'Djibouti', 'Luxembourg', 'MS Zaandam', 'Madagascar', 'Malawi',\n",
    "       'Malaysia', 'Maldives', 'Mali', 'Malta', 'Mauritania', 'Mauritius',\n",
    "       'Mexico', 'Moldova', 'Monaco', 'Mongolia', 'Montenegro', 'Morocco',\n",
    "       'Mozambique', 'Namibia', 'Nepal', 'Netherlands', 'New Zealand',\n",
    "       'Nicaragua', 'Niger', 'Panama', 'Papua New Guinea', 'Paraguay',\n",
    "       'Peru', 'Philippines', 'Bahamas', 'Egypt'])\n",
    "    time_idx = [datetime.strptime(each, \"%m/%d/%y\") for each in sir_plot.date] #to convert all the dates into datetime \n",
    "    time_str= [each.strftime('%Y-%m-%d') for each in time_idx] #to convert datetime function to string\n",
    "    #time_str[0:5]\n",
    "    \n",
    "    #Storing the processed data file and sep';' is a seperator [German std]\n",
    "    sir_plot.to_csv('data/processed/COVID_SIR_flat_table_multiplecountries.csv', sep=';',index=False)\n",
    "    \n",
    "\n",
    "\n",
    "if __name__ == '__main__':\n",
    "    store_relational_data()"
   ]
  },
  {
   "cell_type": "markdown",
   "id": "3e57abc5",
   "metadata": {},
   "source": [
    "## Calculations \n",
    "\n",
    "* Part 1: Doubling rate, doubling rate via regression, savgol filter, Rolling regression, Filtered data. \n",
    "* Part 2: SIR modelling, SIR fit."
   ]
  },
  {
   "cell_type": "code",
   "execution_count": 10,
   "id": "e096dbc9",
   "metadata": {
    "scrolled": false
   },
   "outputs": [
    {
     "name": "stderr",
     "output_type": "stream",
     "text": [
      "c:\\python37\\lib\\site-packages\\ipykernel_launcher.py:45: RuntimeWarning: overflow encountered in double_scalars\n",
      "c:\\python37\\lib\\site-packages\\ipykernel_launcher.py:46: RuntimeWarning: overflow encountered in double_scalars\n",
      "c:\\python37\\lib\\site-packages\\ipykernel_launcher.py:44: RuntimeWarning: overflow encountered in double_scalars\n",
      "c:\\python37\\lib\\site-packages\\ipykernel_launcher.py:45: RuntimeWarning: invalid value encountered in double_scalars\n",
      "c:\\python37\\lib\\site-packages\\ipykernel_launcher.py:72: PerformanceWarning: DataFrame is highly fragmented.  This is usually the result of calling `frame.insert` many times, which has poor performance.  Consider joining all columns at once using pd.concat(axis=1) instead.  To get a de-fragmented frame, use `newframe = frame.copy()`\n"
     ]
    }
   ],
   "source": [
    "from scipy import optimize\n",
    "from scipy import integrate\n",
    "\n",
    "df_input_large=pd.read_csv('data/processed/COVID_SIR_flat_table_multiplecountries.csv',sep=';').iloc[80:]\n",
    "\n",
    "df_all = df_input_large.columns\n",
    "df_all = list(df_all)\n",
    "\n",
    "def SIR_model(SIR,beta,gamma):\n",
    "    ''' Simple SIR model\n",
    "        S: susceptible population\n",
    "        I: infected people\n",
    "        R: recovered people\n",
    "        beta: \n",
    "        \n",
    "        overall condition is that the sum of changes (differnces) sum up to 0\n",
    "        dS+dI+dR=0\n",
    "        S+I+R= N (constant size of population)\n",
    "    \n",
    "    '''\n",
    "    \n",
    "    S,I,R=SIR\n",
    "    dS_dt=-beta*S*I/N0          #S*I is the \n",
    "    dI_dt=beta*S*I/N0-gamma*I\n",
    "    dR_dt=gamma*I\n",
    "    return([dS_dt,dI_dt,dR_dt])\n",
    "\n",
    "# Functions for SIR model with time step\n",
    "def SIR_model_t(SIR,t,beta,gamma):\n",
    "    ''' Simple SIR model\n",
    "        S: susceptible population\n",
    "        t: time step, mandatory for integral.odeint\n",
    "        I: infected people\n",
    "        R: recovered people\n",
    "        beta: \n",
    "        \n",
    "        overall condition is that the sum of changes (differnces) sum up to 0\n",
    "        dS+dI+dR=0\n",
    "        S+I+R= N (constant size of population)\n",
    "    \n",
    "    '''\n",
    "    \n",
    "    S,I,R=SIR\n",
    "    dS_dt=-beta*S*I/N0          #S*I is the \n",
    "    dI_dt=beta*S*I/N0-gamma*I\n",
    "    dR_dt=gamma*I\n",
    "    return dS_dt,dI_dt,dR_dt\n",
    "\n",
    "#Function defined for optimize curve fit\n",
    "def fit_odeint(x, beta, gamma):\n",
    "    '''\n",
    "    helper function for the integration\n",
    "    '''\n",
    "    return integrate.odeint(SIR_model_t, (S0, I0, R0), t, args=(beta, gamma))[:,1] # we only would like to get dI\n",
    "\n",
    "#Fitting parameter for SIR model\n",
    "for each in df_all[1:]:\n",
    "    ydata = np.array(df_input_large[each])\n",
    "    t=np.arange(len(ydata))\n",
    "    N0 = 6000000 #max susceptible population\n",
    "\n",
    "    # ensure re-initialization \n",
    "    I0=ydata[0]\n",
    "    S0=N0-I0\n",
    "    R0=0\n",
    "\n",
    "    popt, pcov = optimize.curve_fit(fit_odeint, t, ydata, maxfev = 20000)\n",
    "    perr = np.sqrt(np.diag(pcov))\n",
    "\n",
    "    # get the final fitted curve\n",
    "    fitted=fit_odeint(t, *popt).reshape(-1,1)\n",
    "    df_input_large[each +'_fitted'] = fitted \n",
    "    \n",
    "df_input_large.to_csv('data/processed/COVID_fitted_SIR_flat_table.csv', sep=';',index=False)"
   ]
  },
  {
   "cell_type": "markdown",
   "id": "b5a59a1f",
   "metadata": {},
   "source": [
    "## Dashboard Implementation"
   ]
  },
  {
   "cell_type": "code",
   "execution_count": 11,
   "id": "b5abe812",
   "metadata": {
    "scrolled": false
   },
   "outputs": [
    {
     "name": "stdout",
     "output_type": "stream",
     "text": [
      "D:\\CVT\\EDS_SS2022_Salim\\ads_covid-19\n",
      "Dash is running on http://127.0.0.1:8050/\n",
      "\n"
     ]
    },
    {
     "name": "stderr",
     "output_type": "stream",
     "text": [
      "c:\\python37\\lib\\site-packages\\ipykernel_launcher.py:7: UserWarning: \n",
      "The dash_core_components package is deprecated. Please replace\n",
      "`import dash_core_components as dcc` with `from dash import dcc`\n",
      "  import sys\n",
      "c:\\python37\\lib\\site-packages\\ipykernel_launcher.py:8: UserWarning: \n",
      "The dash_html_components package is deprecated. Please replace\n",
      "`import dash_html_components as html` with `from dash import html`\n",
      "  \n",
      "\u001b[33m * Tip: There are .env or .flaskenv files present. Do \"pip install python-dotenv\" to use them.\u001b[0m\n"
     ]
    },
    {
     "name": "stdout",
     "output_type": "stream",
     "text": [
      " * Serving Flask app '__main__' (lazy loading)\n",
      " * Environment: production\n",
      "\u001b[31m   WARNING: This is a development server. Do not use it in a production deployment.\u001b[0m\n",
      "\u001b[2m   Use a production WSGI server instead.\u001b[0m\n",
      " * Debug mode: on\n"
     ]
    }
   ],
   "source": [
    "import pandas as pd\n",
    "import numpy as np\n",
    "\n",
    "import dash\n",
    "dash.__version__\n",
    "import dash_bootstrap_components as dbc\n",
    "import dash_core_components as dcc\n",
    "import dash_html_components as html\n",
    "from dash.dependencies import Input, Output,State\n",
    "\n",
    "\n",
    "import plotly.graph_objects as go\n",
    "from plotly import tools\n",
    "\n",
    "import os\n",
    "print(os.getcwd())\n",
    "\n",
    "df_input_sir = pd.read_csv('data/processed/COVID_fitted_SIR_flat_table.csv',sep=';')\n",
    "df_input_sir['date'] = pd.to_datetime(df_input_sir['date'], format='%m/%d/%y')\n",
    "df_all = df_input_sir.columns\n",
    "\n",
    "# convert to datetime format\n",
    "df_all = list(df_all[:300])\n",
    "\n",
    "\n",
    "'''Dashboard is created by using an external stylesheet named BOOTSTRAP. \n",
    "BOOTSTRAP allows us to divide the dashboard into Rows and columns.\n",
    "COVID-19 dashbord has 5 Rows and 2 columns'''\n",
    "\n",
    "#app = dash.Dash(__name__, external_stylesheets=[dbc.themes.BOOTSTRAP])\n",
    "app = dash.Dash()\n",
    "app.title = 'COVID-19 Dashboard'\n",
    "\n",
    "app.layout = html.Div([\n",
    "        \n",
    "        dcc.Markdown('''\n",
    "                            # Enterprise Data Science: COVID-19 Data Analytics\n",
    "                            Goals of the project:\n",
    "                            * To trace the confirmed cases for all the countries\n",
    "                            * To calculate the doubling rate.\n",
    "                            * To simulate the spread of COVID-19 using SIR model for 100+ countries.\n",
    "                            * To create a user friendly dashboard, which shows the current count of confirmed cases, doubling rate and SIR model.\n",
    "                            '''),\n",
    "    \n",
    "       \n",
    "               #Dropdown for Timeline Confirmed and Doubling rate\n",
    "                #Dropdown for SIR model\n",
    "        dcc.Dropdown(\n",
    "                    id='country_dropdown_sir',\n",
    "                    options=[ {'label': each,'value':each} for each in df_all[1:]],\n",
    "                    value='Albania', # which are pre-selected\n",
    "                    multi= False\n",
    "                    ),\n",
    "                        \n",
    "                    dcc.Graph( \n",
    "                            id='SIR_model'\n",
    "                            )\n",
    "            ])\n",
    "\n",
    "@app.callback(\n",
    "    Output('SIR_model', 'figure'),\n",
    "    [Input('country_dropdown_sir', 'value')])\n",
    "\n",
    "def SIR_fig(con_input):\n",
    "    df= df_input_sir\n",
    "   \n",
    "    \n",
    "    for i in df[1:]:\n",
    "        data = []\n",
    "        trace = go.Scatter(x=df_input_sir.date,\n",
    "                        y=df[con_input],\n",
    "                        mode='lines+markers',\n",
    "                        name = con_input)\n",
    "        data.append(trace)\n",
    "        \n",
    "        trace_fitted = go.Scatter(x=df.date,\n",
    "                        y=df[con_input +'_fitted'], \n",
    "                        mode='lines+markers',\n",
    "                        name=con_input+'_fitted')\n",
    "        data.append(trace_fitted)\n",
    "        \n",
    "        \n",
    "            \n",
    "    return {'data': data,\n",
    "            'layout' : dict(\n",
    "                height=900,\n",
    "                title= 'SIR virus spread model',\n",
    "                xaxis={'tickangle':-45,\n",
    "                        'nticks':20,\n",
    "                        'tickfont':dict(size=14,color=\"#7f7f7f\"),\n",
    "                      },\n",
    "                yaxis={'type':\"log\",\n",
    "                       'range':'[1.1,5.5]'\n",
    "                      }\n",
    "                \n",
    "            )\n",
    "        }\n",
    "\n",
    "if __name__ == '__main__':\n",
    "\n",
    "    app.run_server(debug=True, use_reloader=False)   "
   ]
  },
  {
   "cell_type": "code",
   "execution_count": null,
   "id": "50e288cd",
   "metadata": {},
   "outputs": [],
   "source": []
  }
 ],
 "metadata": {
  "kernelspec": {
   "display_name": "Python 3 (ipykernel)",
   "language": "python",
   "name": "python3"
  },
  "language_info": {
   "codemirror_mode": {
    "name": "ipython",
    "version": 3
   },
   "file_extension": ".py",
   "mimetype": "text/x-python",
   "name": "python",
   "nbconvert_exporter": "python",
   "pygments_lexer": "ipython3",
   "version": "3.7.9"
  }
 },
 "nbformat": 4,
 "nbformat_minor": 5
}
