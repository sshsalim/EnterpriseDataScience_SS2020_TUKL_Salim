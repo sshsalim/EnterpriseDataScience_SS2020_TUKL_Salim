{
 "cells": [
  {
   "cell_type": "markdown",
   "metadata": {},
   "source": [
    "![CRISP_DM](CRISP_DM.png)"
   ]
  },
  {
   "cell_type": "markdown",
   "metadata": {},
   "source": [
    "# Business Understanding"
   ]
  },
  {
   "cell_type": "markdown",
   "metadata": {},
   "source": [
    "We would like to track Corona VIRUS spread across countires and with personal local information. \n",
    "\n",
    "The genral information is not so relevant for me, and I would like to have a deep dive into local developement of the spread. "
   ]
  },
  {
   "cell_type": "code",
   "execution_count": 1,
   "metadata": {},
   "outputs": [
    {
     "name": "stdout",
     "output_type": "stream",
     "text": [
      " Volume in drive D is DATA\n",
      " Volume Serial Number is 3C8E-E02D\n",
      "\n",
      " Directory of D:\\CVT\\EDS_SS2022_Salim\\ads_covid-19\\notebooks\n",
      "\n",
      "06/06/2022  09:08 PM    <DIR>          .\n",
      "06/06/2022  09:08 PM    <DIR>          ..\n",
      "06/06/2022  09:08 PM    <DIR>          .ipynb_checkpoints\n",
      "05/01/2022  10:01 AM           682,158 CRISP_DM.png\n",
      "05/19/2022  01:14 AM           641,613 Data_Gathering_3_2.ipynb\n",
      "05/21/2022  08:02 PM         1,352,562 DataGathering_wrap_up_3_6.ipynb\n",
      "05/21/2022  08:31 PM            63,691 DataPreparation_ConversionDateObject_4_2.ipynb\n",
      "05/21/2022  08:26 PM            56,764 DataPreparation_Initial_4_1.ipynb\n",
      "05/31/2022  09:47 PM            84,179 DataPreparation_RelationalDataStructure_4_3.ipynb\n",
      "06/04/2022  09:15 PM         4,135,526 EDA_DynamicPlotPart2to4_5_4.ipynb\n",
      "05/22/2022  12:21 AM            45,752 EDA_matplotlib_Part1_5_1.ipynb\n",
      "06/04/2022  11:32 PM            20,632 Evaluation_Walk_through.ipynb\n",
      "05/31/2022  10:26 PM            40,118 Groupby_apply_on_full_data_set.ipynb\n",
      "05/22/2022  12:41 PM         5,185,782 Modelling_DoublingRate_6_8.ipynb\n",
      "05/22/2022  12:50 PM         5,924,614 Modelling_Filtering_6_9.ipynb\n",
      "06/04/2022  08:05 PM         5,924,626 Modelling_Filtering_6_9-Copy1.ipynb\n",
      "06/05/2022  04:01 AM         4,738,356 Modelling_forecast_facebook_prophet_9.ipynb\n",
      "05/22/2022  01:53 AM         4,798,512 Modelling_LinearRegression_6_6.ipynb\n",
      "05/22/2022  01:16 AM         4,390,716 Modelling_SpreadSpeed_6_2.ipynb\n",
      "06/04/2022  11:48 PM         4,099,157 Overfitting_9_3.ipynb\n",
      "06/06/2022  09:08 PM             4,470 Project_Setup_2_3.ipynb\n",
      "05/19/2022  01:33 AM           688,530 REST_API_3_4.ipynb\n",
      "05/19/2022  01:40 AM           689,557 REST_service_USdata_3_5.ipynb\n",
      "06/05/2022  09:43 PM           201,446 SIR_Modelling.ipynb\n",
      "06/05/2022  10:08 PM           130,728 SIR_Modelling-2022.ipynb\n",
      "05/19/2022  01:25 AM           678,323 Web_Scraping_3_3.ipynb\n",
      "              23 File(s)     44,577,812 bytes\n",
      "               3 Dir(s)  269,555,216,384 bytes free\n"
     ]
    }
   ],
   "source": [
    "%ls"
   ]
  },
  {
   "cell_type": "code",
   "execution_count": 7,
   "metadata": {
    "scrolled": false
   },
   "outputs": [
    {
     "name": "stdout",
     "output_type": "stream",
     "text": [
      "Cookiecutter 2.1.1 from c:\\python37\\lib\\site-packages (Python 3.7.9 (tags/v3.7.9:13c94747c7, Aug 17 2020, 18:58:18) [MSC v.1900 64 bit (AMD64)])\n"
     ]
    }
   ],
   "source": [
    "! cookiecutter -V"
   ]
  },
  {
   "cell_type": "markdown",
   "metadata": {},
   "source": [
    "Project structure set up via cookie cutter in terminal. "
   ]
  },
  {
   "cell_type": "markdown",
   "metadata": {},
   "source": [
    "======================================="
   ]
  }
 ],
 "metadata": {
  "kernelspec": {
   "display_name": "Python 3 (ipykernel)",
   "language": "python",
   "name": "python3"
  },
  "language_info": {
   "codemirror_mode": {
    "name": "ipython",
    "version": 3
   },
   "file_extension": ".py",
   "mimetype": "text/x-python",
   "name": "python",
   "nbconvert_exporter": "python",
   "pygments_lexer": "ipython3",
   "version": "3.7.9"
  }
 },
 "nbformat": 4,
 "nbformat_minor": 2
}
