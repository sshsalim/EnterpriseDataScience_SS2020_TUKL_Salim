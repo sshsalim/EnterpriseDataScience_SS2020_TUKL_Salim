{
 "cells": [
  {
   "cell_type": "code",
   "execution_count": 1,
   "id": "1b1b1595",
   "metadata": {},
   "outputs": [],
   "source": [
    "import pandas as pd\n",
    "import numpy as np\n",
    "\n",
    "from datetime import datetime\n",
    "import pandas as pd \n",
    "\n",
    "from scipy import optimize\n",
    "from scipy import integrate\n",
    "\n",
    "%matplotlib inline\n",
    "import matplotlib as mpl\n",
    "import matplotlib.pyplot as plt\n",
    "\n",
    "import seaborn as sns\n",
    "\n",
    "\n",
    "sns.set(style=\"darkgrid\")\n",
    "\n",
    "mpl.rcParams['figure.figsize'] = (16, 9)\n",
    "pd.set_option('display.max_rows', 500)"
   ]
  },
  {
   "cell_type": "markdown",
   "id": "84648a57",
   "metadata": {},
   "source": [
    "# Data set cleaned for Covid-19 modelling\n",
    "\n",
    "* COVID_small_flat_table is generated using data preparation\n",
    "* SIR fit for only Germany"
   ]
  },
  {
   "cell_type": "code",
   "execution_count": 2,
   "id": "a4b76578",
   "metadata": {},
   "outputs": [
    {
     "data": {
      "text/html": [
       "<div>\n",
       "<style scoped>\n",
       "    .dataframe tbody tr th:only-of-type {\n",
       "        vertical-align: middle;\n",
       "    }\n",
       "\n",
       "    .dataframe tbody tr th {\n",
       "        vertical-align: top;\n",
       "    }\n",
       "\n",
       "    .dataframe thead th {\n",
       "        text-align: right;\n",
       "    }\n",
       "</style>\n",
       "<table border=\"1\" class=\"dataframe\">\n",
       "  <thead>\n",
       "    <tr style=\"text-align: right;\">\n",
       "      <th></th>\n",
       "      <th>date</th>\n",
       "      <th>Italy</th>\n",
       "      <th>US</th>\n",
       "      <th>Spain</th>\n",
       "      <th>Germany</th>\n",
       "      <th>Korea, South</th>\n",
       "    </tr>\n",
       "  </thead>\n",
       "  <tbody>\n",
       "    <tr>\n",
       "      <th>845</th>\n",
       "      <td>2022-05-16</td>\n",
       "      <td>17071649</td>\n",
       "      <td>82630509</td>\n",
       "      <td>12127122</td>\n",
       "      <td>25818405</td>\n",
       "      <td>17830429</td>\n",
       "    </tr>\n",
       "    <tr>\n",
       "      <th>846</th>\n",
       "      <td>2022-05-17</td>\n",
       "      <td>17116550</td>\n",
       "      <td>82742996</td>\n",
       "      <td>12179234</td>\n",
       "      <td>25890456</td>\n",
       "      <td>17861744</td>\n",
       "    </tr>\n",
       "    <tr>\n",
       "      <th>847</th>\n",
       "      <td>2022-05-18</td>\n",
       "      <td>17147477</td>\n",
       "      <td>82951379</td>\n",
       "      <td>12179234</td>\n",
       "      <td>25949175</td>\n",
       "      <td>17889849</td>\n",
       "    </tr>\n",
       "    <tr>\n",
       "      <th>848</th>\n",
       "      <td>2022-05-19</td>\n",
       "      <td>17178199</td>\n",
       "      <td>83060959</td>\n",
       "      <td>12179234</td>\n",
       "      <td>25998085</td>\n",
       "      <td>17914957</td>\n",
       "    </tr>\n",
       "    <tr>\n",
       "      <th>849</th>\n",
       "      <td>2022-05-20</td>\n",
       "      <td>17205017</td>\n",
       "      <td>83237592</td>\n",
       "      <td>12179234</td>\n",
       "      <td>26040460</td>\n",
       "      <td>17938399</td>\n",
       "    </tr>\n",
       "  </tbody>\n",
       "</table>\n",
       "</div>"
      ],
      "text/plain": [
       "           date     Italy        US     Spain   Germany  Korea, South\n",
       "845  2022-05-16  17071649  82630509  12127122  25818405      17830429\n",
       "846  2022-05-17  17116550  82742996  12179234  25890456      17861744\n",
       "847  2022-05-18  17147477  82951379  12179234  25949175      17889849\n",
       "848  2022-05-19  17178199  83060959  12179234  25998085      17914957\n",
       "849  2022-05-20  17205017  83237592  12179234  26040460      17938399"
      ]
     },
     "execution_count": 2,
     "metadata": {},
     "output_type": "execute_result"
    }
   ],
   "source": [
    "# try to parse the dates right at the beginning \n",
    "# it works out of the box if the date was stored ISO YYYY-MM-DD format\n",
    "\n",
    "\n",
    "df_analyse=pd.read_csv('../data/processed/COVID_small_flat_table.csv',sep=';')  \n",
    "df_analyse.sort_values('date',ascending=True).tail()"
   ]
  },
  {
   "cell_type": "code",
   "execution_count": 3,
   "id": "520e9dd4",
   "metadata": {},
   "outputs": [],
   "source": [
    "# set some basic parameters\n",
    "# beta/gamma is denoted as  'basic reproduction number'\n",
    "\n",
    "N0=1000000 #max susceptible population\n",
    "beta=0.4   # infection spread dynamics\n",
    "gamma=0.1  # recovery rate\n",
    "\n",
    "\n",
    "# condition I0+S0+R0=N0\n",
    "I0=df_analyse.Germany[35]\n",
    "S0=N0-I0\n",
    "R0=0"
   ]
  },
  {
   "cell_type": "code",
   "execution_count": 4,
   "id": "ee96bc92",
   "metadata": {},
   "outputs": [],
   "source": [
    "def SIR_model(SIR,beta,gamma):\n",
    "    ''' Simple SIR model\n",
    "        S: susceptible population\n",
    "        I: infected people\n",
    "        R: recovered people\n",
    "        beta: \n",
    "        \n",
    "        overall condition is that the sum of changes (differnces) sum up to 0\n",
    "        dS+dI+dR=0\n",
    "        S+I+R= N (constant size of population)\n",
    "    \n",
    "    '''\n",
    "    \n",
    "    S,I,R=SIR\n",
    "    dS_dt=-beta*S*I/N0          #S*I is the \n",
    "    dI_dt=beta*S*I/N0-gamma*I\n",
    "    dR_dt=gamma*I\n",
    "    return([dS_dt,dI_dt,dR_dt])"
   ]
  },
  {
   "cell_type": "markdown",
   "id": "effb4752",
   "metadata": {},
   "source": [
    "# Simulative approach to calculate SIR curves"
   ]
  },
  {
   "cell_type": "code",
   "execution_count": 5,
   "id": "2e4961eb",
   "metadata": {},
   "outputs": [],
   "source": [
    "SIR=np.array([S0,I0,R0])\n",
    "propagation_rates=pd.DataFrame(columns={'susceptible':S0,\n",
    "                                        'infected':I0,\n",
    "                                        'recoverd':R0})\n",
    "\n",
    "\n",
    "\n",
    "for each_t in np.arange(100):\n",
    "   \n",
    "    new_delta_vec=SIR_model(SIR,beta,gamma)\n",
    "   \n",
    "    SIR=SIR+new_delta_vec\n",
    "    \n",
    "    propagation_rates=propagation_rates.append({'susceptible':SIR[0],\n",
    "                                                'infected':SIR[1],\n",
    "                                                'recovered':SIR[2]}, ignore_index=True)"
   ]
  },
  {
   "cell_type": "code",
   "execution_count": 6,
   "id": "2d699746",
   "metadata": {},
   "outputs": [
    {
     "data": {
      "image/png": "[encoded data removed]",
      "text/plain": [
       "<Figure size 1152x648 with 1 Axes>"
      ]
     },
     "metadata": {},
     "output_type": "display_data"
    }
   ],
   "source": [
    "fig, ax1 = plt.subplots(1, 1)\n",
    "\n",
    "ax1.plot(propagation_rates.index,propagation_rates.infected,label='infected',color='k')\n",
    "ax1.plot(propagation_rates.index,propagation_rates.recovered,label='recovered')\n",
    "ax1.plot(propagation_rates.index,propagation_rates.susceptible,label='susceptible')\n",
    "\n",
    "ax1.set_ylim(10, 1000000)\n",
    "ax1.set_yscale('linear')\n",
    "ax1.set_title('Szenario SIR simulations  (demonstration purposes only)',size=16)\n",
    "ax1.set_xlabel('time in days',size=16)\n",
    "ax1.legend(loc='best',\n",
    "           prop={'size': 16});"
   ]
  },
  {
   "cell_type": "markdown",
   "id": "888b9f4a",
   "metadata": {},
   "source": [
    "# Fitting the parameters of SIR model"
   ]
  },
  {
   "cell_type": "code",
   "execution_count": 7,
   "id": "318b1712",
   "metadata": {},
   "outputs": [],
   "source": [
    "ydata = np.array(df_analyse.Germany[35:])\n",
    "t=np.arange(len(ydata))"
   ]
  },
  {
   "cell_type": "code",
   "execution_count": 8,
   "id": "ed53cd0a",
   "metadata": {
    "scrolled": true
   },
   "outputs": [
    {
     "data": {
      "text/plain": [
       "0.4"
      ]
     },
     "execution_count": 8,
     "metadata": {},
     "output_type": "execute_result"
    }
   ],
   "source": [
    "# ensure re-initialization \n",
    "I0=ydata[0]\n",
    "S0=N0-I0\n",
    "R0=0\n",
    "beta"
   ]
  },
  {
   "cell_type": "code",
   "execution_count": 9,
   "id": "1599b073",
   "metadata": {},
   "outputs": [],
   "source": [
    "def SIR_model_t(SIR,t,beta,gamma):\n",
    "    ''' Simple SIR model\n",
    "        S: susceptible population\n",
    "        t: time step, mandatory for integral.odeint\n",
    "        I: infected people\n",
    "        R: recovered people\n",
    "        beta: \n",
    "        \n",
    "        overall condition is that the sum of changes (differnces) sum up to 0\n",
    "        dS+dI+dR=0\n",
    "        S+I+R= N (constant size of population)\n",
    "    \n",
    "    '''\n",
    "    \n",
    "    S,I,R=SIR\n",
    "    dS_dt=-beta*S*I/N0          #S*I is the \n",
    "    dI_dt=beta*S*I/N0-gamma*I\n",
    "    dR_dt=gamma*I\n",
    "    return dS_dt,dI_dt,dR_dt"
   ]
  },
  {
   "cell_type": "code",
   "execution_count": 10,
   "id": "c480d00e",
   "metadata": {},
   "outputs": [],
   "source": [
    "def fit_odeint(x, beta, gamma):\n",
    "    '''\n",
    "    helper function for the integration\n",
    "    '''\n",
    "    return integrate.odeint(SIR_model_t, (S0, I0, R0), t, args=(beta, gamma))[:,1] # we only would like to get dI"
   ]
  },
  {
   "cell_type": "code",
   "execution_count": 11,
   "id": "a0f4e640",
   "metadata": {},
   "outputs": [
    {
     "data": {
      "text/plain": [
       "array([ 2.10000000e+01,  2.83467442e+01,  3.82635349e+01,  5.16492851e+01,\n",
       "        6.97171980e+01,  9.41045567e+01,  1.27020786e+02,  1.71447062e+02,\n",
       "        2.31405299e+02,  3.12320402e+02,  4.21507742e+02,  5.68828389e+02,\n",
       "        7.67568562e+02,  1.03561758e+03,  1.39704132e+03,  1.88417601e+03,\n",
       "        2.54040014e+03,  3.42377774e+03,  4.61179988e+03,  6.20746901e+03,\n",
       "        8.34695108e+03,  1.12089170e+04,  1.50254352e+04,  2.00937383e+04,\n",
       "        2.67872046e+04,  3.55622587e+04,  4.69554712e+04,  6.15620761e+04,\n",
       "        7.99843269e+04,  1.02737867e+05,  1.30110563e+05,  1.61985487e+05,\n",
       "        1.97668411e+05,  2.35790176e+05,  2.74361695e+05,  3.11019967e+05,\n",
       "        3.43420416e+05,  3.69650711e+05,  3.88523547e+05,  3.99666850e+05,\n",
       "        4.03424001e+05,  4.00642226e+05,  3.92438005e+05,  3.80000472e+05,\n",
       "        3.64456984e+05,  3.46798540e+05,  3.27850544e+05,  3.08272539e+05,\n",
       "        2.88573617e+05,  2.69134372e+05,  2.50230013e+05,  2.32051744e+05,\n",
       "        2.14725295e+05,  1.98326261e+05,  1.82892479e+05,  1.68433817e+05,\n",
       "        1.54939807e+05,  1.42385535e+05,  1.30736144e+05,  1.19950255e+05,\n",
       "        1.09982530e+05,  1.00785593e+05,  9.23114415e+04,  8.45124711e+04,\n",
       "        7.73422095e+04,  7.07558225e+04,  6.47104517e+04,  5.91654233e+04,\n",
       "        5.40823618e+04,  4.94252319e+04,  4.51603290e+04,  4.12562313e+04,\n",
       "        3.76837260e+04,  3.44157177e+04,  3.14271247e+04,  2.86947697e+04,\n",
       "        2.61972668e+04,  2.39149082e+04,  2.18295531e+04,  1.99245197e+04,\n",
       "        1.81844810e+04,  1.65953653e+04,  1.51442623e+04,  1.38193343e+04,\n",
       "        1.26097328e+04,  1.15055207e+04,  1.04975994e+04,  9.57764109e+03,\n",
       "        8.73802644e+03,  7.97178607e+03,  7.27254702e+03,  6.63448307e+03,\n",
       "        6.05226908e+03,  5.52103879e+03,  5.03634615e+03,  4.59412966e+03,\n",
       "        4.19067964e+03,  3.82260824e+03,  3.48682188e+03,  3.18049600e+03,\n",
       "        2.90105190e+03,  2.64613558e+03,  2.41359832e+03,  2.20147894e+03,\n",
       "        2.00798753e+03,  1.83149061e+03,  1.67049752e+03,  1.52364803e+03,\n",
       "        1.38970096e+03,  1.26752383e+03,  1.15608337e+03,  1.05443684e+03,\n",
       "        9.61724161e+02,  8.77160673e+02,  8.00030535e+02,  7.29680715e+02,\n",
       "        6.65515482e+02,  6.06991401e+02,  5.53612739e+02,  5.04927292e+02,\n",
       "        4.60522570e+02,  4.20022307e+02,  3.83083294e+02,  3.49392470e+02,\n",
       "        3.18664281e+02,  2.90638265e+02,  2.65076847e+02,  2.41763334e+02,\n",
       "        2.20500075e+02,  2.01106793e+02,  1.83419060e+02,  1.67286900e+02,\n",
       "        1.52573523e+02,  1.39154163e+02,  1.26915025e+02,  1.15752319e+02,\n",
       "        1.05571381e+02,  9.62858700e+01,  8.78170376e+01,  8.00930597e+01,\n",
       "        7.30484285e+01,  6.66233963e+01,  6.07634701e+01,  5.54189488e+01,\n",
       "        5.05445021e+01,  4.60987864e+01,  4.20440940e+01,  3.83460334e+01,\n",
       "        3.49732378e+01,  3.18970991e+01,  2.90915252e+01,  2.65327187e+01,\n",
       "        2.41989755e+01,  2.20705000e+01,  2.01292380e+01,  1.83587230e+01,\n",
       "        1.67439369e+01,  1.52711824e+01,  1.39279670e+01,  1.27028970e+01,\n",
       "        1.15855806e+01,  1.05665404e+01,  9.63713215e+00,  8.78947225e+00,\n",
       "        8.01637032e+00,  7.31126850e+00,  6.66818568e+00,  6.08166686e+00,\n",
       "        5.54673683e+00,  5.05885797e+00,  4.61389180e+00,  4.20806383e+00,\n",
       "        3.83793155e+00,  3.50035528e+00,  3.19247146e+00,  2.91166842e+00,\n",
       "        2.65556420e+00,  2.42198634e+00,  2.20895349e+00,  2.01465854e+00,\n",
       "        1.83745336e+00,  1.67583478e+00,  1.52843181e+00,  1.39399411e+00,\n",
       "        1.27138126e+00,  1.15955317e+00,  1.05756126e+00,  9.64540338e-01,\n",
       "        8.79701344e-01,  8.02324613e-01,  7.31753777e-01,  6.67390209e-01,\n",
       "        6.08687926e-01,  5.55148975e-01,  5.06319201e-01,  4.61784393e-01,\n",
       "        4.21166777e-01,  3.84121802e-01,  3.50335228e-01,  3.19520452e-01,\n",
       "        2.91416081e-01,  2.65783716e-01,  2.42405919e-01,  2.21084386e-01,\n",
       "        2.01638251e-01,  1.83902559e-01,  1.67726863e-01,  1.52973948e-01,\n",
       "        1.39518669e-01,  1.27246889e-01,  1.16054510e-01,  1.05846590e-01,\n",
       "        9.65365387e-02,  8.80453798e-02,  8.03010865e-02,  7.32379656e-02,\n",
       "        6.67961042e-02,  6.09208540e-02,  5.55623794e-02,  5.06752247e-02,\n",
       "        4.62179348e-02,  4.21526990e-02,  3.84450331e-02,  3.50634861e-02,\n",
       "        3.19793726e-02,  2.91665319e-02,  2.66011027e-02,  2.42613240e-02,\n",
       "        2.21273469e-02,  2.01810704e-02,  1.84059841e-02,  1.67870312e-02,\n",
       "        1.53104778e-02,  1.39637994e-02,  1.27355719e-02,  1.16153767e-02,\n",
       "        1.05937117e-02,  9.66191025e-03,  8.81206831e-03,  8.03697657e-03,\n",
       "        7.33006046e-03,  6.68532311e-03,  6.09729568e-03,  5.56098986e-03,\n",
       "        5.07185652e-03,  4.62574627e-03,  4.21887500e-03,  3.84779128e-03,\n",
       "        3.50934736e-03,  3.20067230e-03,  2.91914779e-03,  2.66238581e-03,\n",
       "        2.42820773e-03,  2.21462742e-03,  2.01983316e-03,  1.84217232e-03,\n",
       "        1.68013805e-03,  1.53235640e-03,  1.39757307e-03,  1.27464530e-03,\n",
       "        1.16252991e-03,  1.06027592e-03,  9.67016177e-04,  8.81959157e-04,\n",
       "        8.04383815e-04,  7.33631741e-04,  6.69102899e-04,  6.10249814e-04,\n",
       "        5.56573044e-04,  5.07617926e-04,  4.62968830e-04,  4.22246894e-04,\n",
       "        3.85106996e-04,  3.51233687e-04,  3.20339786e-04,  2.92163361e-04,\n",
       "        2.66465128e-04,  2.43027368e-04,  2.21651189e-04,  2.02155146e-04,\n",
       "        1.84374017e-04,  1.68156813e-04,  1.53366007e-04,  1.39876252e-04,\n",
       "        1.27572983e-04,  1.16351901e-04,  1.06117722e-04,  9.67835301e-05,\n",
       "        8.82704284e-05,  8.05064741e-05,  7.34256127e-05,  6.69676370e-05,\n",
       "        6.10774832e-05,  5.57055973e-05,  5.08063124e-05,  4.63375475e-05,\n",
       "        4.22617513e-05,  3.85445859e-05,  3.51542666e-05,  3.20620713e-05,\n",
       "        2.92420501e-05,  2.66700858e-05,  2.43241589e-05,  2.21846961e-05,\n",
       "        2.02334651e-05,  1.84537175e-05,  1.68306492e-05,  1.53505007e-05,\n",
       "        1.40004789e-05,  1.27689046e-05,  1.16457170e-05,  1.06213902e-05,\n",
       "        9.68709507e-06,  8.83487166e-06,  8.05770669e-06,  7.34897239e-06,\n",
       "        6.70252375e-06,  6.11291721e-06,  5.57525337e-06,  5.08491215e-06,\n",
       "        4.63760940e-06,  4.22963347e-06,  3.85757927e-06,  3.51825995e-06,\n",
       "        3.20863938e-06,  2.92645634e-06,  2.66906522e-06,  2.43430355e-06,\n",
       "        2.22017131e-06,  2.02493701e-06,  1.84691098e-06,  1.68452690e-06,\n",
       "        1.53634911e-06,  1.40109008e-06,  1.27762522e-06,  1.16494534e-06,\n",
       "        1.06217675e-06,  9.68581827e-07,  8.83352969e-07,  8.05592937e-07,\n",
       "        7.34662758e-07,  6.70011438e-07,  6.11174884e-07,  5.57596185e-07,\n",
       "        5.08705264e-07,  4.64083810e-07,  4.23367180e-07,  3.85425828e-07,\n",
       "        3.52046181e-07,  3.21317291e-07,  2.93122589e-07,  2.67345506e-07,\n",
       "        2.43864787e-07,  2.22467166e-07,  2.02967596e-07,  1.85209664e-07,\n",
       "        1.69036958e-07,  1.54293068e-07,  1.40826540e-07,  1.28567840e-07,\n",
       "        1.17419088e-07,  1.07258925e-07,  9.79659942e-08,  8.94189380e-08,\n",
       "        8.15065787e-08,  7.42610907e-08,  6.76597129e-08,  6.16418667e-08,\n",
       "        5.61469734e-08,  5.11144540e-08,  4.54515954e-08,  4.16986454e-08,\n",
       "        3.81750038e-08,  3.48806706e-08,  3.18156458e-08,  2.89799295e-08,\n",
       "        2.63710425e-08,  2.39638983e-08,  2.17519741e-08,  1.97352698e-08,\n",
       "        1.79137854e-08,  1.62875210e-08,  1.48556185e-08,  1.35608386e-08,\n",
       "        1.23685923e-08,  1.12788795e-08,  1.02917002e-08,  9.40705440e-09,\n",
       "        8.62494211e-09,  7.92373667e-09,  7.27087861e-09,  6.66604277e-09,\n",
       "        6.10922913e-09,  5.60043770e-09,  5.13966848e-09,  4.72254174e-09,\n",
       "        4.33373412e-09,  3.97192433e-09,  3.63711235e-09,  3.32929821e-09,\n",
       "        3.04848188e-09,  2.79386026e-09,  2.55801037e-09,  2.33912775e-09,\n",
       "        2.13721238e-09,  1.95226427e-09,  1.78428343e-09,  1.63318743e-09,\n",
       "        1.49464107e-09,  1.36619032e-09,  1.24783517e-09,  1.13957562e-09,\n",
       "        1.04141168e-09,  9.53343343e-10,  8.73532765e-10,  7.99393035e-10,\n",
       "        7.30905984e-10,  6.68071614e-10,  6.10889923e-10,  5.59360911e-10,\n",
       "        4.88665194e-10,  4.09237903e-10,  3.33252071e-10,  2.60707696e-10,\n",
       "        1.91604779e-10,  1.25943321e-10,  6.37233199e-11,  4.94477716e-12,\n",
       "       -5.03923076e-11, -1.02287934e-10, -1.50742103e-10, -1.95754814e-10,\n",
       "       -2.37326067e-10, -2.75455862e-10, -3.10144199e-10, -3.41391078e-10,\n",
       "       -3.69196499e-10, -3.93560462e-10, -4.14482967e-10, -4.31964014e-10,\n",
       "       -4.46003603e-10, -4.56601734e-10, -4.63758407e-10, -4.67473622e-10,\n",
       "       -4.67747379e-10, -4.64579679e-10, -4.57970520e-10, -4.47919903e-10,\n",
       "       -4.34427828e-10, -4.17494296e-10, -3.97119305e-10, -3.73302856e-10,\n",
       "       -3.46044949e-10, -3.38073445e-10, -3.48433869e-10, -3.57881439e-10,\n",
       "       -3.66416157e-10, -3.74038021e-10, -3.80747031e-10, -3.86543189e-10,\n",
       "       -3.91426493e-10, -3.95396944e-10, -3.98454542e-10, -4.00599286e-10,\n",
       "       -4.01831178e-10, -4.02150215e-10, -4.01556400e-10, -4.00049731e-10,\n",
       "       -3.97630210e-10, -3.94297834e-10, -3.90052606e-10, -3.84894524e-10,\n",
       "       -3.78823589e-10, -3.71839801e-10, -3.63943159e-10, -3.55133664e-10,\n",
       "       -3.45411316e-10, -3.34776115e-10, -3.23228060e-10, -3.10767152e-10,\n",
       "       -2.97393391e-10, -2.83106777e-10, -2.67907309e-10, -2.51794988e-10,\n",
       "       -2.34769814e-10, -2.16831786e-10, -2.16358707e-10, -2.11394978e-10,\n",
       "       -2.06431249e-10, -2.01467520e-10, -1.96503792e-10, -1.91540063e-10,\n",
       "       -1.86576334e-10, -1.81612605e-10, -1.76648876e-10, -1.71685147e-10,\n",
       "       -1.66721418e-10, -1.61757689e-10, -1.56793960e-10, -1.51830231e-10,\n",
       "       -1.46866502e-10, -1.41902773e-10, -1.36939045e-10, -1.31975316e-10,\n",
       "       -1.27011587e-10, -1.22047858e-10, -1.17084129e-10, -1.12120400e-10,\n",
       "       -1.07156671e-10, -1.02192942e-10, -9.72292132e-11, -9.22654842e-11,\n",
       "       -8.73017553e-11, -8.23380264e-11, -7.73742975e-11, -7.24105686e-11,\n",
       "       -6.74468396e-11, -6.24831107e-11, -5.75193818e-11, -5.38699322e-11,\n",
       "       -5.37123673e-11, -5.35548025e-11, -5.33972376e-11, -5.32396728e-11,\n",
       "       -5.30821080e-11, -5.29245431e-11, -5.27669783e-11, -5.26094134e-11,\n",
       "       -5.24518486e-11, -5.22942838e-11, -5.21367189e-11, -5.19791541e-11,\n",
       "       -5.18215892e-11, -5.16640244e-11, -5.15064595e-11, -5.13488947e-11,\n",
       "       -5.11913299e-11, -5.10337650e-11, -5.08762002e-11, -5.07186353e-11,\n",
       "       -5.05610705e-11, -5.04035057e-11, -5.02459408e-11, -5.00883760e-11,\n",
       "       -4.99308111e-11, -4.97732463e-11, -4.96156815e-11, -4.94581166e-11,\n",
       "       -4.93005518e-11, -4.91429869e-11, -4.89854221e-11, -4.88278573e-11,\n",
       "       -4.86702924e-11, -4.85127276e-11, -4.83551627e-11, -4.81975979e-11,\n",
       "       -4.80400331e-11, -4.78824682e-11, -4.77249034e-11, -4.75673385e-11,\n",
       "       -4.74097737e-11, -4.72522089e-11, -4.70946440e-11, -4.69370792e-11,\n",
       "       -4.67795143e-11, -4.66219495e-11, -4.64643847e-11, -4.63068198e-11,\n",
       "       -4.61492550e-11, -4.59916901e-11, -4.58341253e-11, -4.56765605e-11,\n",
       "       -4.55189956e-11, -4.53614308e-11, -4.52038659e-11, -4.50463011e-11,\n",
       "       -4.48887362e-11, -4.47311714e-11, -4.45736066e-11, -4.44160417e-11,\n",
       "       -4.42584769e-11, -4.41009120e-11, -4.39433472e-11, -4.37857824e-11,\n",
       "       -4.36282175e-11, -4.34706527e-11, -4.33130878e-11, -4.31555230e-11,\n",
       "       -4.29979582e-11, -4.28403933e-11, -4.26828285e-11, -4.25252636e-11,\n",
       "       -4.23676988e-11, -4.22101340e-11, -4.20525691e-11, -4.18950043e-11,\n",
       "       -4.17374394e-11, -4.15798746e-11, -4.14223098e-11, -4.12647449e-11,\n",
       "       -4.11071801e-11, -4.09496152e-11, -4.07920504e-11, -4.06344856e-11,\n",
       "       -4.04769207e-11, -4.03193559e-11, -4.01617910e-11, -4.00042262e-11,\n",
       "       -3.98466614e-11, -3.96890965e-11, -3.95315317e-11, -3.93739668e-11,\n",
       "       -3.92164020e-11, -3.90588372e-11, -3.89012723e-11, -3.87437075e-11,\n",
       "       -3.85861426e-11, -3.84285778e-11, -3.82710129e-11, -3.81134481e-11,\n",
       "       -3.79558833e-11, -3.77983184e-11, -3.76407536e-11, -3.74831887e-11,\n",
       "       -3.73256239e-11, -3.71680591e-11, -3.70104942e-11, -3.68529294e-11,\n",
       "       -3.66953645e-11, -3.65377997e-11, -3.63802349e-11, -3.62226700e-11,\n",
       "       -3.60651052e-11, -3.59075403e-11, -3.57499755e-11, -3.55924107e-11,\n",
       "       -3.54348458e-11, -3.52772810e-11, -3.51197161e-11, -3.49621513e-11,\n",
       "       -3.48045865e-11, -3.46470216e-11, -3.44894568e-11, -3.43318919e-11,\n",
       "       -3.41743271e-11, -3.40167623e-11, -3.38591974e-11, -3.37016326e-11,\n",
       "       -3.35440677e-11, -3.33865029e-11, -3.32289381e-11, -3.30713732e-11,\n",
       "       -3.29138084e-11, -3.27562435e-11, -3.25986787e-11, -3.24411139e-11,\n",
       "       -3.22835490e-11, -3.21259842e-11, -3.19684193e-11, -3.18108545e-11,\n",
       "       -3.16532897e-11, -3.14957248e-11, -3.13381600e-11, -3.11805951e-11,\n",
       "       -3.10230303e-11, -3.08654654e-11, -3.07079006e-11, -3.05503358e-11,\n",
       "       -3.03927709e-11, -3.02352061e-11, -3.00776412e-11, -2.99200764e-11,\n",
       "       -2.97625116e-11, -2.96049467e-11, -2.94473819e-11, -2.92898170e-11,\n",
       "       -2.91322522e-11, -2.89746874e-11, -2.88171225e-11, -2.86595577e-11,\n",
       "       -2.85019928e-11, -2.83444280e-11, -2.81868632e-11, -2.80292983e-11,\n",
       "       -2.78717335e-11, -2.77141686e-11, -2.75566038e-11, -2.73990390e-11,\n",
       "       -2.72414741e-11, -2.70839093e-11, -2.69263444e-11, -2.67687796e-11,\n",
       "       -2.66112148e-11, -2.64536499e-11, -2.62960851e-11, -2.61385202e-11,\n",
       "       -2.59809554e-11, -2.58233906e-11, -2.56658257e-11, -2.55082609e-11,\n",
       "       -2.53506960e-11, -2.51931312e-11, -2.50355664e-11, -2.48780015e-11,\n",
       "       -2.47204367e-11, -2.45628718e-11, -2.44053070e-11, -2.42477421e-11,\n",
       "       -2.40901773e-11, -2.39326125e-11, -2.37750476e-11, -2.36174828e-11,\n",
       "       -2.34599179e-11, -2.33023531e-11, -2.31447883e-11, -2.29872234e-11,\n",
       "       -2.28296586e-11, -2.26720937e-11, -2.25145289e-11, -2.23569641e-11,\n",
       "       -2.21993992e-11, -2.20418344e-11, -2.18842695e-11, -2.17267047e-11,\n",
       "       -2.15691399e-11, -2.14115750e-11, -2.12540102e-11, -2.10964453e-11,\n",
       "       -2.09388805e-11, -2.07813157e-11, -2.06237508e-11, -2.04661860e-11,\n",
       "       -2.03086211e-11, -2.01510563e-11, -1.99934915e-11, -1.98359266e-11,\n",
       "       -1.96783618e-11, -1.95207969e-11, -1.93632321e-11, -1.92056673e-11,\n",
       "       -1.90481024e-11, -1.88905376e-11, -1.87329727e-11, -1.85754079e-11,\n",
       "       -1.84178431e-11, -1.82602782e-11, -1.81027134e-11, -1.79451485e-11,\n",
       "       -1.77875837e-11, -1.76300188e-11, -1.74724540e-11, -1.73148892e-11,\n",
       "       -1.71573243e-11, -1.69997595e-11, -1.68421946e-11, -1.66846298e-11,\n",
       "       -1.65270650e-11, -1.63695001e-11, -1.62119353e-11, -1.60543704e-11,\n",
       "       -1.58968056e-11, -1.57392408e-11, -1.55816759e-11, -1.54241111e-11,\n",
       "       -1.52665462e-11, -1.51089814e-11, -1.49514166e-11, -1.47938517e-11,\n",
       "       -1.46362869e-11, -1.44787220e-11, -1.43211572e-11, -1.41635924e-11,\n",
       "       -1.40060275e-11, -1.38484627e-11, -1.36908978e-11, -1.35333330e-11,\n",
       "       -1.33757682e-11, -1.32182033e-11, -1.30606385e-11, -1.29030736e-11,\n",
       "       -1.27455088e-11, -1.25879440e-11, -1.24303791e-11, -1.22728143e-11,\n",
       "       -1.21152494e-11, -1.19576846e-11, -1.18001198e-11, -1.16425549e-11,\n",
       "       -1.14849901e-11, -1.13274252e-11, -1.11698604e-11, -1.10122955e-11,\n",
       "       -1.08547307e-11, -1.06971659e-11, -1.05396010e-11, -1.03820362e-11,\n",
       "       -1.02244713e-11, -1.00669065e-11, -9.90934167e-12, -9.75177683e-12,\n",
       "       -9.59421199e-12, -9.43664714e-12, -9.27908230e-12, -9.12151746e-12,\n",
       "       -8.96395262e-12, -8.80638778e-12, -8.64882294e-12, -8.49125810e-12,\n",
       "       -8.33369326e-12, -8.17612842e-12, -8.01856358e-12, -7.86099874e-12,\n",
       "       -7.70343390e-12, -7.54586906e-12, -7.38830422e-12])"
      ]
     },
     "execution_count": 11,
     "metadata": {},
     "output_type": "execute_result"
    }
   ],
   "source": [
    "# example curve of our differential equations\n",
    "popt=[0.4,0.1]\n",
    "fit_odeint(t, *popt)"
   ]
  },
  {
   "cell_type": "code",
   "execution_count": 12,
   "id": "a2c9b48f",
   "metadata": {
    "scrolled": true
   },
   "outputs": [
    {
     "name": "stderr",
     "output_type": "stream",
     "text": [
      "c:\\python37\\lib\\site-packages\\scipy\\integrate\\odepack.py:247: ODEintWarning: Excess work done on this call (perhaps wrong Dfun type). Run with full_output = 1 to get quantitative information.\n",
      "  warnings.warn(warning_msg, ODEintWarning)\n"
     ]
    },
    {
     "name": "stdout",
     "output_type": "stream",
     "text": [
      "standard deviation errors :  [55.59986626 55.06467137]  start infect: 21\n",
      "Optimal parameters: beta = 1.0992037672654786  and gamma =  0.89908536844803\n"
     ]
    },
    {
     "name": "stderr",
     "output_type": "stream",
     "text": [
      "c:\\python37\\lib\\site-packages\\ipykernel_launcher.py:16: RuntimeWarning: overflow encountered in double_scalars\n",
      "  \n",
      "c:\\python37\\lib\\site-packages\\ipykernel_launcher.py:17: RuntimeWarning: overflow encountered in double_scalars\n",
      "  app.launch_new_instance()\n",
      "c:\\python37\\lib\\site-packages\\ipykernel_launcher.py:18: RuntimeWarning: overflow encountered in double_scalars\n"
     ]
    }
   ],
   "source": [
    "# the resulting curve has to be fitted\n",
    "# free parameters are here beta and gammapopt, pcov = optimize.curve_fit(fit_odeint, t, ydata)\n",
    "popt, pcov = optimize.curve_fit(fit_odeint, t, ydata)\n",
    "perr = np.sqrt(np.diag(pcov))\n",
    "    \n",
    "print('standard deviation errors : ',str(perr), ' start infect:',ydata[0])\n",
    "print(\"Optimal parameters: beta =\", popt[0], \" and gamma = \", popt[1])"
   ]
  },
  {
   "cell_type": "code",
   "execution_count": 13,
   "id": "1727936e",
   "metadata": {},
   "outputs": [],
   "source": [
    "# get the final fitted curve\n",
    "fitted=fit_odeint(t, *popt)"
   ]
  },
  {
   "cell_type": "code",
   "execution_count": 14,
   "id": "dbd65fcd",
   "metadata": {
    "scrolled": true
   },
   "outputs": [
    {
     "data": {
      "image/png": "[encoded data removed]",
      "text/plain": [
       "<Figure size 1152x648 with 1 Axes>"
      ]
     },
     "metadata": {},
     "output_type": "display_data"
    },
    {
     "name": "stdout",
     "output_type": "stream",
     "text": [
      "Optimal parameters: beta = 1.0992037672654786  and gamma =  0.89908536844803\n",
      "Basic Reproduction Number R0  1.2225799749837838\n",
      "This ratio is derived as the expected number of new infections (these new infections are sometimes called secondary infections from a single infection in a population where all subjects are susceptible. @wiki\n"
     ]
    }
   ],
   "source": [
    "plt.semilogy(t, ydata, 'o')\n",
    "plt.semilogy(t, fitted)\n",
    "plt.title(\"Fit of SIR model for Germany cases\")\n",
    "plt.ylabel(\"Population infected\")\n",
    "plt.xlabel(\"Days\")\n",
    "plt.show()\n",
    "print(\"Optimal parameters: beta =\", popt[0], \" and gamma = \", popt[1])\n",
    "print(\"Basic Reproduction Number R0 \" , popt[0]/ popt[1])\n",
    "print(\"This ratio is derived as the expected number of new infections (these new infections are sometimes called secondary infections from a single infection in a population where all subjects are susceptible. @wiki\")"
   ]
  },
  {
   "cell_type": "code",
   "execution_count": null,
   "id": "aac0c2dd",
   "metadata": {},
   "outputs": [],
   "source": []
  }
 ],
 "metadata": {
  "kernelspec": {
   "display_name": "Python 3 (ipykernel)",
   "language": "python",
   "name": "python3"
  },
  "language_info": {
   "codemirror_mode": {
    "name": "ipython",
    "version": 3
   },
   "file_extension": ".py",
   "mimetype": "text/x-python",
   "name": "python",
   "nbconvert_exporter": "python",
   "pygments_lexer": "ipython3",
   "version": "3.7.9"
  }
 },
 "nbformat": 4,
 "nbformat_minor": 5
}
